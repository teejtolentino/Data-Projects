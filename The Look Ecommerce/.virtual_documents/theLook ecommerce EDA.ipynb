





import pandas as pd
import pandasql as psql
import numpy as np
import matplotlib.pyplot as plt
import seaborn as sns
%matplotlib inline


df = pd.read_csv('thelook_ecommerce.csv')





# Get the first few rows
df.head()


# Get number of rows and columns
df.shape


# Get count of non-null and data types
df.info()


# Get summary statistics of numeric values
df.describe()








# Count missing values in each column
df.isnull().sum()


# Visualize missing data
sns.heatmap(df.isnull(), cbar=False, cmap='viridis')
plt.show()


# Check percentage of missing values
(df.isnull().sum()/df.count())*100


# We'll drop the missing values
df = df.dropna()


df.isnull().sum()





# Find duplicate rows
df.duplicated().sum()


# If we want to see what rows are duplicates
for i, row in enumerate(df.duplicated()):
    if row == True:
        print(i, row)
    else:
        pass


# Drop duplicate rows 
df.drop_duplicates(inplace=True)





df.columns


# Create orders df that summarizes features per order (the original df is per transaction)
orders = df.groupby(['order_id', 
                     'order_date',
                     'department',
                     'first_name', 
                     'last_name', 
                     'age', 
                     'gender', 
                     'state',
                     'city', 
                     'country', 
                     'lat', 
                     'long']).agg({
    'product_id': 'count', 
    'category': 'count', 
    'name': 'count', 
    'brand': 'count', 
    'cost': 'sum', 
    'retail_price': 'sum',
    'distribution_center': 'count',
    'sale_price': 'sum'})

orders.reset_index(inplace=True)


orders.head()





orders.columns





df['category'].value_counts().head(10)


df['category'].value_counts().plot(kind='bar')
plt.show()


orders['country'].value_counts()


df['country'].value_counts().plot(kind='bar')
plt.show()


orders['gender'].value_counts()


orders['gender'].value_counts().plot(kind='bar')
plt.show()





df['cost'].hist(bins=100)
plt.show()


df['retail_price'].hist(bins=100)
plt.show()


df['sale_price'].hist(bins=100)
plt.show()


df.boxplot(column=['cost', 'retail_price','sale_price'], figsize=(12,6))
plt.show()





#set up the general appearance of the plots
sns.set(style='white')
sns.set_context("paper", font_scale=1.5) 


# Numeric vs Numeric
sns.lmplot(x='retail_price', y='sale_price', data=df)
#plt.savefig('.../plots/retail vs sale.png')
plt.show()


sns.lmplot(x='retail_price', y='cost', data=df)
plt.show()


sns.lmplot(x='sale_price', y='cost', data=df)
plt.savefig('.../plots/sale vs cost.png')
plt.show()


# Correlation matrix
numeric_df = df.select_dtypes(include=['number'])
corr = numeric_df.corr()
plt.figure(figsize=(12, 6))
sns.heatmap(corr, annot=True, cmap='viridis')
plt.show()


# Catrgorical vs Numeric
plt.figure(figsize=(12, 6))
sns.boxplot(x='cost', y='category', data=df)
plt.show()


# Catrgorical vs Numeric
plt.figure(figsize=(12, 6))
sns.boxplot(x='retail_price', y='category', data=df)
plt.savefig('.../plots/outliers across categories')
plt.show()


# Outlier products -- extreme prices
query = "SELECT category, name, retail_price FROM df WHERE retail_price > 400"

# Execute the query
expensive_products = psql.sqldf(query, locals())


expensive_products.head()


expensive_products[expensive_products['retail_price'] == 999].value_counts()


# Catrgorical vs Categorical
plt.figure(figsize=(12, 6))
sns.countplot(y='category', hue='gender', data=df)
plt.show()


# Let's confirm that some categories don't have male buyers
category_gender_count = df.groupby('category')['gender'].value_counts()
print(category_gender_count)





df.head()


gender_products = df.groupby('gender').agg(product_count=('product_id', 'count'), total_sales=('sale_price', 'sum'))
gender_products['total_sales'] = round(gender_products['total_sales'], 2)


gender_products


gender_products['total_sales'].plot(kind='bar')
plt.ylabel('total_sales')
plt.show()


df.head(3)


df.isnull().sum()


# Date transformation
df['order_date'] = pd.to_datetime(df['order_date'], format='mixed', dayfirst=True)
orders['order_date'] = pd.to_datetime(df['order_date'], format='mixed', dayfirst=True)


orders.head()


#orders.drop(['year','month','day_of_week'],axis=1,inplace=True)


# Inserting columns based on date
# Mapping months and days

mmap = {1:'Jan', 2:'Feb', 3:'Mar', 4:'Apr', 5:'May', 6:'June', 7:'July', 8:'Aug', 9:'Sept', 10:'Oct', 11:'Nov', 12:'Dec'}
dmap = {0:'Sun', 1:'Mon', 2:'Tue', 3:'Wed', 4:'Thurs', 5:'Fri', 6:'Sat'}

orders.insert(loc=2, column='month', value=orders['order_date'].apply(lambda date:date.month))
orders.insert(loc=3, column='year', value=orders['order_date'].apply(lambda date:date.year))
orders.insert(loc=4, column='day_of_week', value=orders['order_date'].apply(lambda date:date.day_of_week))

#orders['year'] = orders['year'].apply(lambda year:int(year))
#orders['year'] = orders['year'].apply(lambda year:str(year))

year_sales = orders.groupby('year').agg(total_sales=('sale_price', 'sum'))
month_sales = orders.groupby('month').agg(total_sales=('sale_price', 'sum'))
day_sales = orders.groupby('day_of_week').agg(total_sales=('sale_price', 'sum'))

year_sales['total_sales'] = round(year_sales['total_sales'], 2)
month_sales['total_sales'] = round(month_sales['total_sales'], 2)
day_sales['total_sales'] = round(day_sales['total_sales'], 2)

year_sales.reset_index(inplace=True)
month_sales.reset_index(inplace=True)
day_sales.reset_index(inplace=True)

year_sales.sort_values('year', ascending=True)
month_sales.sort_values('month', ascending=True)
day_sales.sort_values('day_of_week', ascending=True)

orders['month'] = orders['month'].map(mmap)
month_sales['month'] = month_sales['month'].map(mmap)

orders['day_of_week'] = orders['day_of_week'].map(dmap)
day_sales['day_of_week'] = day_sales['day_of_week'].map(dmap)


# Create subplots
fig, axs = plt.subplots(1, 3, sharey=True, figsize=(16, 6))

# Plot each bar plot on a different subplot
axs[0].bar(year_sales['year'], year_sales['total_sales'], color='skyblue')
axs[0].set_title('Yearly Sales')

axs[1].bar(month_sales['month'], month_sales['total_sales'], color='salmon')
axs[1].set_title('Monthly Sales')

axs[2].bar(day_sales['day_of_week'], day_sales['total_sales'], color='lightgreen')
axs[2].set_title('Daily Sales')

# Set common y-axis label
fig.text(0.0005, 0.5, 'total_sales', va='center', rotation='vertical')

# Show the plot
plt.tight_layout()
plt.show()


# Bin numerical values
df.insert(loc=14, column="age_group", value=pd.cut(df['age'], bins=[0, 18, 30, 45, 60, 100], labels=['children', 'youth', 'adult', 'middle-aged', 'senior']))


plt.figure(figsize=(12,6))
sns.countplot(x='age_group', hue='gender', data=df)
plt.show()





plt.figure(figsize=(12,6))
sns.boxplot(data=[df['cost'],df['retail_price'],df['sale_price']])
xvalues=['Cost','Retail Price','Sale Price']
plt.xticks(np.arange(3),xvalues)
plt.tight_layout()
plt.savefig('.../plots/outliers')
plt.show()






